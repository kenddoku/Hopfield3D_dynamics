{
 "cells": [
  {
   "cell_type": "code",
   "execution_count": 1,
   "id": "d1801169-4bd0-4e72-bbdf-41e6d5d8388b",
   "metadata": {},
   "outputs": [
    {
     "ename": "FileNotFoundError",
     "evalue": "[Errno 2] No such file or directory: 'path/to/pdfs'",
     "output_type": "error",
     "traceback": [
      "\u001b[31m---------------------------------------------------------------------------\u001b[39m",
      "\u001b[31mFileNotFoundError\u001b[39m                         Traceback (most recent call last)",
      "\u001b[36mCell\u001b[39m\u001b[36m \u001b[39m\u001b[32mIn[1]\u001b[39m\u001b[32m, line 6\u001b[39m\n\u001b[32m      3\u001b[39m \u001b[38;5;28;01mimport\u001b[39;00m\u001b[38;5;250m \u001b[39m\u001b[34;01mos\u001b[39;00m\n\u001b[32m      5\u001b[39m pdf_dir = \u001b[33m\"\u001b[39m\u001b[33mpath/to/pdfs\u001b[39m\u001b[33m\"\u001b[39m\n\u001b[32m----> \u001b[39m\u001b[32m6\u001b[39m pdf_files = \u001b[38;5;28msorted\u001b[39m([f \u001b[38;5;28;01mfor\u001b[39;00m f \u001b[38;5;129;01min\u001b[39;00m \u001b[43mos\u001b[49m\u001b[43m.\u001b[49m\u001b[43mlistdir\u001b[49m\u001b[43m(\u001b[49m\u001b[43mpdf_dir\u001b[49m\u001b[43m)\u001b[49m \u001b[38;5;28;01mif\u001b[39;00m f.endswith(\u001b[33m\"\u001b[39m\u001b[33m.pdf\u001b[39m\u001b[33m\"\u001b[39m)])\n\u001b[32m      8\u001b[39m \u001b[38;5;28;01mdef\u001b[39;00m\u001b[38;5;250m \u001b[39m\u001b[34mshow_pdf\u001b[39m(pdf_name):\n\u001b[32m      9\u001b[39m     display(IFrame(os.path.join(pdf_dir, pdf_name), width=\u001b[32m900\u001b[39m, height=\u001b[32m700\u001b[39m))\n",
      "\u001b[31mFileNotFoundError\u001b[39m: [Errno 2] No such file or directory: 'path/to/pdfs'"
     ]
    }
   ],
   "source": [
    "from IPython.display import IFrame\n",
    "import ipywidgets as widgets\n",
    "import os\n",
    "\n",
    "pdf_dir = \"/net/pr2/projects/plgrid/plgghopfieldmgr/Masters/figures\"\n",
    "pdf_files = sorted([f for f in os.listdir(pdf_dir) if f.endswith(\".pdf\")])\n",
    "\n",
    "def show_pdf(pdf_name):\n",
    "    display(IFrame(os.path.join(pdf_dir, pdf_name), width=900, height=700))\n",
    "\n",
    "widgets.interact(show_pdf, pdf_name=pdf_files)\n"
   ]
  },
  {
   "cell_type": "code",
   "execution_count": null,
   "id": "ddb2cdac-9aa1-47fe-a893-5724d42eb0be",
   "metadata": {},
   "outputs": [],
   "source": []
  }
 ],
 "metadata": {
  "kernelspec": {
   "display_name": "Python 3 (ipykernel)",
   "language": "python",
   "name": "python3"
  },
  "language_info": {
   "codemirror_mode": {
    "name": "ipython",
    "version": 3
   },
   "file_extension": ".py",
   "mimetype": "text/x-python",
   "name": "python",
   "nbconvert_exporter": "python",
   "pygments_lexer": "ipython3",
   "version": "3.11.13"
  }
 },
 "nbformat": 4,
 "nbformat_minor": 5
}
